{
  "nbformat": 4,
  "nbformat_minor": 0,
  "metadata": {
    "colab": {
      "provenance": []
    },
    "kernelspec": {
      "name": "python3",
      "display_name": "Python 3"
    },
    "language_info": {
      "name": "python"
    }
  },
  "cells": [
    {
      "cell_type": "markdown",
      "source": [
        "# Instruções:\n",
        "Para a realização desta tarefa você precisa fazer uma cópia deste carderno de questões para a sua conta. Você responderá a questão colando no AVA o link para a sua cópia contendo as suas respostas. \n",
        "\n",
        "Se encontrar qualquer problema de compartilhamento, salve o seu carderno, contendo as suas soluções, no Github (Arquivo, Salvar no Github) e poste o link do github no canvas.\n",
        "\n",
        "Todas as questões precisam ser resolvidas algébrica e computacionalmente. Usando todos os recursos computacionais disponíveis na internet. Mas, você não pode consultar outros seres humanos. \n",
        "\n",
        "**Não se equeça de preencher seu nome nesta célula:**\n",
        "# Nome"
      ],
      "metadata": {
        "id": "N9MMbzueKAP-"
      }
    },
    {
      "cell_type": "markdown",
      "source": [
        "# Questão 1: \n",
        "O tempo necessário para baixar um arquivo pode ser calculado usando logaritmos. Se a taxa de transferência de dados é de 10 Mbps e o tamanho do arquivo é de 2 GB, quanto tempo levará para baixar o arquivo? Use a fórmula:\n",
        "\n",
        "$$\n",
        "T = \\frac{8 \\cdot S}{R \\cdot 10^6}\n",
        "$$\n",
        "\n",
        "onde $T$ é o tempo em segundos, $S$ é o tamanho do arquivo em GB e $R$ é a taxa de transferência em Mbps. Para calcular o tempo em minutos, faça $T / 60$. Não se esqueça de traçar um gráfico mostrando o o tempo de downloads para arquivos que estão entre 1 e 20 GB."
      ],
      "metadata": {
        "id": "PvsJvEFLKD9J"
      }
    },
    {
      "cell_type": "code",
      "execution_count": null,
      "metadata": {
        "id": "dfbByDljJ7GM"
      },
      "outputs": [],
      "source": []
    },
    {
      "cell_type": "markdown",
      "source": [
        "# Questão 2\n",
        "Usando, a seu critério, as bibliotecas do Python, crie um gráfico para cada uma das funções a seguir. No label do gráfico deverá estar a função impressa com qualidade matemática (latex) e uma label dizendo se a função é crescente ou decrescente. \n",
        "\n",
        "1. $e^x - 4x^2 = 0$\n",
        "\n",
        "2. $\\log_3(x^2 + 1) - \\log_3(x) = 2$"
      ],
      "metadata": {
        "id": "rmimtIaPP2ma"
      }
    },
    {
      "cell_type": "code",
      "source": [],
      "metadata": {
        "id": "bqMY38LiSQi1"
      },
      "execution_count": null,
      "outputs": []
    },
    {
      "cell_type": "markdown",
      "source": [
        "# Questão 3\n",
        "Usando o Sympy, ou qualquer outro recurso disponível na internet, escreva, com qualidade matemática o passo-a-passo algébrico que leva a determinação dos seguintes limites. Ao final, para cada uma das equações você deverá traçar um gráfico da função. \n",
        "\n",
        "1. $\\lim_{x \\to 0} \\frac{\\sin(2x)}{x}$\n",
        "\n",
        "2. $\\lim_{x \\to \\infty} \\frac{e^x}{x^3}$"
      ],
      "metadata": {
        "id": "mkmn4fVESRYf"
      }
    }
  ]
}